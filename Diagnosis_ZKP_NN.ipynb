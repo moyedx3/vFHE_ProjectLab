{
  "cells": [
    {
      "cell_type": "markdown",
      "metadata": {
        "id": "n8QlFzjPRIGN"
      },
      "source": [
        "# Analyzing Breast Cancer Diagnosis with ZKP-Enabled Neural Networks\n",
        "\n",
        "In this example, we train a simple neural network in pytorch for classification and convert it into zk circuit with ezkl for provable inference. Finally, we verify the proof onchain using local ethereum node."
      ]
    },
    {
      "cell_type": "markdown",
      "metadata": {
        "id": "JhHE2WMvS9NP"
      },
      "source": [
        "### 1. Import Dependencies and Data Loading\n",
        "\n",
        "First, we will need to import all the various dependencies required to train the model."
      ]
    },
    {
      "cell_type": "code",
      "execution_count": 1,
      "metadata": {
        "id": "gvQ5HL1bTDWF"
      },
      "outputs": [],
      "source": [
        "import pandas as pd\n",
        "from sklearn.datasets import load_breast_cancer\n",
        "from sklearn.model_selection import train_test_split\n",
        "from sklearn.metrics import accuracy_score, precision_score, recall_score\n",
        "import numpy as np\n",
        "import torch\n",
        "import torch.nn as nn\n",
        "import torch.nn.functional as F\n",
        "from torch.autograd import Variable\n",
        "import tqdm\n",
        "import logging\n",
        "\n",
        "\n",
        "FORMAT = '%(levelname)s %(name)s %(asctime)-15s %(filename)s:%(lineno)d %(message)s'\n",
        "logging.basicConfig(format=FORMAT)\n",
        "logging.getLogger().setLevel(logging.INFO)"
      ]
    },
    {
      "cell_type": "markdown",
      "metadata": {
        "id": "Op9SHfZHUkaR"
      },
      "source": [
        "In this section, the breast cancer dataset is loaded from `sklearn.datasets`, converted into a pandas DataFrame with feature names and a target column, and then displayed to confirm its structure."
      ]
    },
    {
      "cell_type": "code",
      "execution_count": 2,
      "metadata": {
        "colab": {
          "base_uri": "https://localhost:8080/",
          "height": 424
        },
        "id": "C4XXA1hoU30c",
        "outputId": "4fbd47ec-88d1-4ef7-baee-3e3894cc29db"
      },
      "outputs": [
        {
          "name": "stdout",
          "output_type": "stream",
          "text": [
            "     mean radius  mean texture  mean perimeter  mean area  mean smoothness  \\\n",
            "0          17.99         10.38          122.80     1001.0          0.11840   \n",
            "1          20.57         17.77          132.90     1326.0          0.08474   \n",
            "2          19.69         21.25          130.00     1203.0          0.10960   \n",
            "3          11.42         20.38           77.58      386.1          0.14250   \n",
            "4          20.29         14.34          135.10     1297.0          0.10030   \n",
            "..           ...           ...             ...        ...              ...   \n",
            "564        21.56         22.39          142.00     1479.0          0.11100   \n",
            "565        20.13         28.25          131.20     1261.0          0.09780   \n",
            "566        16.60         28.08          108.30      858.1          0.08455   \n",
            "567        20.60         29.33          140.10     1265.0          0.11780   \n",
            "568         7.76         24.54           47.92      181.0          0.05263   \n",
            "\n",
            "     mean compactness  mean concavity  mean concave points  mean symmetry  \\\n",
            "0             0.27760         0.30010              0.14710         0.2419   \n",
            "1             0.07864         0.08690              0.07017         0.1812   \n",
            "2             0.15990         0.19740              0.12790         0.2069   \n",
            "3             0.28390         0.24140              0.10520         0.2597   \n",
            "4             0.13280         0.19800              0.10430         0.1809   \n",
            "..                ...             ...                  ...            ...   \n",
            "564           0.11590         0.24390              0.13890         0.1726   \n",
            "565           0.10340         0.14400              0.09791         0.1752   \n",
            "566           0.10230         0.09251              0.05302         0.1590   \n",
            "567           0.27700         0.35140              0.15200         0.2397   \n",
            "568           0.04362         0.00000              0.00000         0.1587   \n",
            "\n",
            "     mean fractal dimension  ...  worst texture  worst perimeter  worst area  \\\n",
            "0                   0.07871  ...          17.33           184.60      2019.0   \n",
            "1                   0.05667  ...          23.41           158.80      1956.0   \n",
            "2                   0.05999  ...          25.53           152.50      1709.0   \n",
            "3                   0.09744  ...          26.50            98.87       567.7   \n",
            "4                   0.05883  ...          16.67           152.20      1575.0   \n",
            "..                      ...  ...            ...              ...         ...   \n",
            "564                 0.05623  ...          26.40           166.10      2027.0   \n",
            "565                 0.05533  ...          38.25           155.00      1731.0   \n",
            "566                 0.05648  ...          34.12           126.70      1124.0   \n",
            "567                 0.07016  ...          39.42           184.60      1821.0   \n",
            "568                 0.05884  ...          30.37            59.16       268.6   \n",
            "\n",
            "     worst smoothness  worst compactness  worst concavity  \\\n",
            "0             0.16220            0.66560           0.7119   \n",
            "1             0.12380            0.18660           0.2416   \n",
            "2             0.14440            0.42450           0.4504   \n",
            "3             0.20980            0.86630           0.6869   \n",
            "4             0.13740            0.20500           0.4000   \n",
            "..                ...                ...              ...   \n",
            "564           0.14100            0.21130           0.4107   \n",
            "565           0.11660            0.19220           0.3215   \n",
            "566           0.11390            0.30940           0.3403   \n",
            "567           0.16500            0.86810           0.9387   \n",
            "568           0.08996            0.06444           0.0000   \n",
            "\n",
            "     worst concave points  worst symmetry  worst fractal dimension  target  \n",
            "0                  0.2654          0.4601                  0.11890     0.0  \n",
            "1                  0.1860          0.2750                  0.08902     0.0  \n",
            "2                  0.2430          0.3613                  0.08758     0.0  \n",
            "3                  0.2575          0.6638                  0.17300     0.0  \n",
            "4                  0.1625          0.2364                  0.07678     0.0  \n",
            "..                    ...             ...                      ...     ...  \n",
            "564                0.2216          0.2060                  0.07115     0.0  \n",
            "565                0.1628          0.2572                  0.06637     0.0  \n",
            "566                0.1418          0.2218                  0.07820     0.0  \n",
            "567                0.2650          0.4087                  0.12400     0.0  \n",
            "568                0.0000          0.2871                  0.07039     1.0  \n",
            "\n",
            "[569 rows x 31 columns]\n"
          ]
        }
      ],
      "source": [
        "# Load the dataset\n",
        "breast_cancer = load_breast_cancer()\n",
        "\n",
        "# Create a DataFrame\n",
        "dataset = pd.DataFrame(\n",
        "    data=np.c_[breast_cancer['data'], breast_cancer['target']],\n",
        "    columns=breast_cancer['feature_names'].tolist() + ['target']\n",
        ")\n",
        "\n",
        "# Display the DataFrame\n",
        "print(dataset)"
      ]
    },
    {
      "cell_type": "markdown",
      "metadata": {
        "id": "I8RargmGTWN2"
      },
      "source": [
        "### 2. Model Training and Performance Evaluation\n",
        "\n",
        "We define a neural network model using PyTorch. The model class inherits from `nn.Module` and includes three fully connected layers with ReLU activations, batch normalization, and dropout for regularization."
      ]
    },
    {
      "cell_type": "code",
      "execution_count": 3,
      "metadata": {
        "id": "dIdQ9U3yTKtP"
      },
      "outputs": [],
      "source": [
        "import torch\n",
        "import torch.nn as nn\n",
        "import torch.optim as optim\n",
        "import numpy as np\n",
        "from tqdm import tqdm\n",
        "import pandas as pd  # Make sure pandas is imported if you're working with pandas Series\n",
        "\n",
        "# Model Definition\n",
        "class Model(nn.Module):\n",
        "    def __init__(self):\n",
        "        super(Model, self).__init__()\n",
        "        self.fc1 = nn.Linear(30, 64)\n",
        "        self.relu1 = nn.ReLU()\n",
        "        self.bn1 = nn.BatchNorm1d(64)\n",
        "        self.dropout1 = nn.Dropout(0.5)\n",
        "        self.fc2 = nn.Linear(64, 32)\n",
        "        self.relu2 = nn.ReLU()\n",
        "        self.bn2 = nn.BatchNorm1d(32)\n",
        "        self.dropout2 = nn.Dropout(0.5)\n",
        "        self.fc3 = nn.Linear(32, 1)\n",
        "\n",
        "    def forward(self, x):\n",
        "        x = self.fc1(x)\n",
        "        x = self.relu1(x)\n",
        "        x = self.bn1(x)\n",
        "        x = self.dropout1(x)\n",
        "        x = self.fc2(x)\n",
        "        x = self.relu2(x)\n",
        "        x = self.bn2(x)\n",
        "        x = self.dropout2(x)\n",
        "        x = self.fc3(x)\n",
        "        return x\n",
        "model = Model()"
      ]
    },
    {
      "cell_type": "markdown",
      "metadata": {
        "id": "SfC03XLNXDPZ"
      },
      "source": [
        "Here, we split the dataset into a training set and testing set for ML. This is done fairly easily with the `train_test_split` helper function from sklearn."
      ]
    },
    {
      "cell_type": "code",
      "execution_count": 4,
      "metadata": {
        "colab": {
          "base_uri": "https://localhost:8080/"
        },
        "id": "agmbEdmfUO1-",
        "outputId": "87766edd-50db-48af-aa5d-3f4fc164f8b7"
      },
      "outputs": [
        {
          "name": "stdout",
          "output_type": "stream",
          "text": [
            "train_y:  68     1.0\n",
            "181    0.0\n",
            "63     1.0\n",
            "248    1.0\n",
            "60     1.0\n",
            "      ... \n",
            "71     1.0\n",
            "106    1.0\n",
            "270    1.0\n",
            "435    0.0\n",
            "102    1.0\n",
            "Name: target, Length: 455, dtype: float64\n",
            "test_y:  204    1.0\n",
            "70     0.0\n",
            "131    0.0\n",
            "431    1.0\n",
            "540    1.0\n",
            "      ... \n",
            "486    1.0\n",
            "75     0.0\n",
            "249    1.0\n",
            "238    1.0\n",
            "265    0.0\n",
            "Name: target, Length: 114, dtype: float64\n"
          ]
        }
      ],
      "source": [
        "train_X, test_X, train_y, test_y = train_test_split(\n",
        "    dataset[dataset.columns[:30]].values,  # Adjusted to use all feature columns in the breast cancer dataset\n",
        "    dataset['target'],  # Correct way to access the target column\n",
        "    test_size=0.2,  # Use 20% of data for testing\n",
        "    random_state=42  # Optional: for reproducibility of results\n",
        ")\n",
        "\n",
        "# Uncomment for sanity checks\n",
        "# print(\"train_X: \", train_X.shape)  # Print shapes instead of values for brevity\n",
        "# print(\"test_X: \", test_X.shape)\n",
        "print(\"train_y: \", train_y)\n",
        "print(\"test_y: \", test_y)"
      ]
    },
    {
      "cell_type": "markdown",
      "metadata": {
        "id": "_FrQXhAGZGS3"
      },
      "source": [
        "In this section, we convert the training and test datasets into PyTorch tensors, set up the BCEWithLogitsLoss function and the Adam optimizer, and execute the training loop for 800 epochs. Finally, we compute and display the final training accuracy."
      ]
    },
    {
      "cell_type": "code",
      "execution_count": 5,
      "metadata": {
        "colab": {
          "base_uri": "https://localhost:8080/"
        },
        "id": "9PjADXnuXbdk",
        "outputId": "81602926-c386-4f68-a9ee-ae2d5837fe47"
      },
      "outputs": [
        {
          "name": "stderr",
          "output_type": "stream",
          "text": [
            "100%|██████████| 800/800 [00:01<00:00, 586.74it/s]"
          ]
        },
        {
          "name": "stdout",
          "output_type": "stream",
          "text": [
            "Final Training Accuracy: 0.9649122953414917\n"
          ]
        },
        {
          "name": "stderr",
          "output_type": "stream",
          "text": [
            "\n"
          ]
        }
      ],
      "source": [
        "# Convert datasets to tensors\n",
        "train_X = torch.tensor(train_X).float()\n",
        "test_X = torch.tensor(test_X).float()\n",
        "train_y = torch.tensor(train_y.to_numpy(), dtype=torch.float32).view(-1, 1)  # Convert using .to_numpy()\n",
        "test_y = torch.tensor(test_y.to_numpy(), dtype=torch.float32).view(-1, 1)    # Convert using .to_numpy()\n",
        "\n",
        "# Loss and optimizer\n",
        "loss_fn = nn.BCEWithLogitsLoss()\n",
        "optimizer = optim.Adam(model.parameters(), lr=0.001)\n",
        "scheduler = optim.lr_scheduler.StepLR(optimizer, step_size=50, gamma=0.1)\n",
        "\n",
        "# Training the model\n",
        "EPOCHS = 800\n",
        "loss_list = np.zeros((EPOCHS,))\n",
        "accuracy_list = np.zeros((EPOCHS,))\n",
        "\n",
        "for epoch in tqdm(range(EPOCHS)):\n",
        "    model.train()\n",
        "    predicted_y = model(train_X)\n",
        "    loss = loss_fn(predicted_y, train_y)\n",
        "    loss_list[epoch] = loss.item()\n",
        "\n",
        "    optimizer.zero_grad()\n",
        "    loss.backward()\n",
        "    optimizer.step()\n",
        "    scheduler.step()\n",
        "\n",
        "    model.eval()\n",
        "    with torch.no_grad():\n",
        "        y_pred = torch.sigmoid(model(test_X)) >= 0.5\n",
        "        correct = (y_pred == test_y.bool()).type(torch.FloatTensor)\n",
        "        accuracy_list[epoch] = correct.mean()\n",
        "\n",
        "# Optionally, print final accuracy or any other metrics\n",
        "print(\"Final Training Accuracy:\", accuracy_list[-1])"
      ]
    },
    {
      "cell_type": "code",
      "execution_count": 6,
      "metadata": {
        "colab": {
          "base_uri": "https://localhost:8080/",
          "height": 546
        },
        "id": "2fHJAgvwboCe",
        "outputId": "513c73b7-2663-4bb3-f7b4-cae208940070"
      },
      "outputs": [
        {
          "data": {
            "image/png": "[encoded data removed]",
            "text/plain": [
              "<Figure size 1200x600 with 2 Axes>"
            ]
          },
          "metadata": {},
          "output_type": "display_data"
        }
      ],
      "source": [
        "# Plot the Accuracy and Loss\n",
        "\n",
        "# import matplotlib\n",
        "import matplotlib.pyplot as plt\n",
        "\n",
        "plt.style.use('ggplot')\n",
        "\n",
        "\n",
        "fig, (ax1, ax2) = plt.subplots(2, figsize=(12, 6), sharex=True)\n",
        "\n",
        "ax1.plot(accuracy_list)\n",
        "ax1.set_ylabel(\"Accuracy\")\n",
        "ax2.plot(loss_list)\n",
        "ax2.set_ylabel(\"Loss\")\n",
        "ax2.set_xlabel(\"epochs\");"
      ]
    },
    {
      "cell_type": "markdown",
      "metadata": {
        "id": "JgtwrbMZcgla"
      },
      "source": [
        "### 3. Convert to ZK Circuit\n",
        "\n"
      ]
    },
    {
      "cell_type": "code",
      "execution_count": 7,
      "metadata": {
        "id": "C_YiqknhdDwN"
      },
      "outputs": [],
      "source": [
        "# check if notebook is in colab\n",
        "try:\n",
        "    import google.colab\n",
        "    import subprocess\n",
        "    import sys\n",
        "    subprocess.check_call([sys.executable, \"-m\", \"pip\", \"install\", \"ezkl\"])\n",
        "    subprocess.check_call([sys.executable, \"-m\", \"pip\", \"install\", \"onnx\"])\n",
        "\n",
        "# rely on local installation of ezkl if the notebook is not in colab\n",
        "except:\n",
        "    pass\n",
        "\n",
        "import os\n",
        "import json\n",
        "import ezkl"
      ]
    },
    {
      "cell_type": "markdown",
      "metadata": {
        "id": "-b_z_d2FdVTB"
      },
      "source": [
        "Here, we export the neural network to a `.onnx` file. EZKL reads this `.onnx` file and converts it into a circuit which then allows you to generate proofs as well as verify proofs."
      ]
    },
    {
      "cell_type": "code",
      "execution_count": 8,
      "metadata": {
        "id": "YeKWP0tFeCpq"
      },
      "outputs": [],
      "source": [
        "# Specify all the files we need\n",
        "\n",
        "model_path = os.path.join('network.onnx')\n",
        "compiled_model_path = os.path.join('network.ezkl')\n",
        "pk_path = os.path.join('test.pk')\n",
        "vk_path = os.path.join('test.vk')\n",
        "settings_path = os.path.join('settings.json')\n",
        "\n",
        "witness_path = os.path.join('witness.json')\n",
        "data_path = os.path.join('input.json')\n",
        "cal_data_path = os.path.join('cal_data.json')"
      ]
    },
    {
      "cell_type": "code",
      "execution_count": 9,
      "metadata": {
        "colab": {
          "base_uri": "https://localhost:8080/"
        },
        "id": "cQeNw_qndQ8g",
        "outputId": "2d40f14e-7fbb-4377-e9ee-0e7678edb2ce"
      },
      "outputs": [],
      "source": [
        "# After training, export to onnx (network.onnx) and create a data file (input.json)\n",
        "\n",
        "# create a random input\n",
        "x = test_X[0].reshape(1, 30)\n",
        "\n",
        "# Flips the neural net into inference mode\n",
        "model.eval()\n",
        "\n",
        "# Export the model\n",
        "torch.onnx.export(model,                     # model being run\n",
        "                  x,                         # model input (or a tuple for multiple inputs)\n",
        "                  model_path,                # where to save the model (can be a file or file-like object)\n",
        "                  export_params=True,        # store the trained parameter weights inside the model file\n",
        "                  opset_version=10,          # the ONNX version to export the model to\n",
        "                  do_constant_folding=True,  # whether to execute constant folding for optimization\n",
        "                  input_names = ['input'],   # the model's input names\n",
        "                  output_names = ['output'], # the model's output names\n",
        "                  dynamic_axes={'input' : {0 : 'batch_size'},    # variable length axes\n",
        "                                'output' : {0 : 'batch_size'}})\n",
        "\n",
        "data_array = ((x).detach().numpy()).reshape([-1]).tolist()\n",
        "\n",
        "data = dict(input_data = [data_array])\n",
        "\n",
        "    # Serialize data into file:\n",
        "json.dump(data, open(data_path, 'w'))\n",
        "\n",
        "\n",
        "\n"
      ]
    },
    {
      "cell_type": "markdown",
      "metadata": {
        "id": "9P4x79hIeiLO"
      },
      "source": [
        "The, we  proceed to generate the settings file for EZKL and run calibrate settings to find the optimal settings for EZKL."
      ]
    },
    {
      "cell_type": "code",
      "execution_count": 10,
      "metadata": {
        "id": "cY25BIyreIX8"
      },
      "outputs": [],
      "source": [
        "!RUST_LOG=trace\n",
        "# TODO: Dictionary outputs\n",
        "res = ezkl.gen_settings(model_path, settings_path)\n",
        "assert res == True\n",
        "\n"
      ]
    },
    {
      "cell_type": "code",
      "execution_count": null,
      "metadata": {},
      "outputs": [],
      "source": [
        "import json\n",
        "\n",
        "cal_data = {'input_data': test_X.view(-1).tolist()}  # Properly prepare data\n",
        "cal_data_path = 'calibration_data.json'\n",
        "\n",
        "with open(cal_data_path, 'w') as f:\n",
        "    json.dump(cal_data, f)\n",
        "\n",
        "# Assume ezkl is imported and setup correctly\n",
        "try:\n",
        "    res = ezkl.calibrate_settings(cal_data_path, model_path, settings_path, \"resources\", max_logrows=12, scales=[2])\n",
        "    print(\"Calibration result:\", res)\n",
        "except RuntimeError as e:\n",
        "    print(\"Calibration failed with error:\", e)\n"
      ]
    },
    {
      "cell_type": "markdown",
      "metadata": {
        "id": "MFmPMBQ1jYao"
      },
      "source": [
        "Next, we compile the model."
      ]
    },
    {
      "cell_type": "code",
      "execution_count": 15,
      "metadata": {
        "id": "De5XtpGUerkZ"
      },
      "outputs": [],
      "source": [
        "res = ezkl.compile_circuit(model_path, compiled_model_path, settings_path)\n",
        "assert res == True"
      ]
    },
    {
      "cell_type": "markdown",
      "metadata": {
        "id": "UbkuSVKljmhA"
      },
      "source": [
        "Before we can setup the circuit params, we need a SRS (Structured Reference String). The SRS is used to generate the proofs."
      ]
    },
    {
      "cell_type": "code",
      "execution_count": 16,
      "metadata": {
        "id": "amaTcWG6f2GI"
      },
      "outputs": [
        {
          "name": "stderr",
          "output_type": "stream",
          "text": [
            "INFO ezkl.execute 2024-04-30 21:28:08,610 execute.rs:562 SRS does not exist, downloading...\n",
            "INFO ezkl.execute 2024-04-30 21:28:19,200 execute.rs:574 Saving SRS to disk...\n",
            "INFO ezkl.execute 2024-04-30 21:28:19,214 execute.rs:579 Saved SRS to disk.\n",
            "INFO ezkl.execute 2024-04-30 21:28:19,214 execute.rs:581 SRS downloaded\n",
            "INFO ezkl.execute 2024-04-30 21:28:19,220 execute.rs:500 read 16777476 bytes from file (vector of len = 16777476)\n",
            "INFO ezkl.execute 2024-04-30 21:28:19,230 execute.rs:507 file hash: 41509f380362a8d14401c5ae92073154922fe23e45459ce6f696f58607655db7\n"
          ]
        }
      ],
      "source": [
        "res = ezkl.get_srs( settings_path)"
      ]
    },
    {
      "cell_type": "markdown",
      "metadata": {
        "id": "Y92p3GhVj1Jd"
      },
      "source": [
        "Now we run setup, this will generate a proving key (pk) and verification key (vk). The proving key is used for proving while the verification key is used for verificaton."
      ]
    },
    {
      "cell_type": "code",
      "execution_count": 17,
      "metadata": {
        "id": "fdsteit9jzfK"
      },
      "outputs": [
        {
          "name": "stderr",
          "output_type": "stream",
          "text": [
            "INFO ezkl.pfsys.srs 2024-04-30 21:28:42,745 srs.rs:23 loading srs from \"/home/moyed/.ezkl/srs/kzg17.srs\"\n",
            "INFO ezkl.execute 2024-04-30 21:28:42,761 execute.rs:2143 downsizing params to 17 logrows\n",
            "INFO ezkl.graph.model 2024-04-30 21:28:42,804 model.rs:1083 model layout...\n",
            "INFO ezkl.pfsys 2024-04-30 21:28:45,851 mod.rs:501 VK took 3.88\n",
            "INFO ezkl.graph.model 2024-04-30 21:28:45,857 model.rs:1083 model layout...\n",
            "INFO ezkl.pfsys 2024-04-30 21:28:48,220 mod.rs:507 PK took 2.367\n",
            "INFO ezkl.pfsys 2024-04-30 21:28:48,221 mod.rs:794 saving verification key 💾\n",
            "INFO ezkl.pfsys 2024-04-30 21:28:48,223 mod.rs:799 done saving verification key ✅\n",
            "INFO ezkl.pfsys 2024-04-30 21:28:48,224 mod.rs:776 saving proving key 💾\n",
            "INFO ezkl.pfsys 2024-04-30 21:28:50,783 mod.rs:781 done saving proving key ✅\n"
          ]
        }
      ],
      "source": [
        "res = ezkl.setup(\n",
        "        compiled_model_path,\n",
        "        vk_path,\n",
        "        pk_path,\n",
        "    )\n",
        "\n",
        "\n",
        "assert res == True\n",
        "assert os.path.isfile(vk_path)\n",
        "assert os.path.isfile(pk_path)\n",
        "assert os.path.isfile(settings_path)"
      ]
    },
    {
      "cell_type": "markdown",
      "metadata": {},
      "source": [
        "### 4. Proof Generation and Verification"
      ]
    },
    {
      "cell_type": "markdown",
      "metadata": {
        "id": "QYlqpP3jkExm"
      },
      "source": [
        "Now, we can generate a proof and verify the proof as a sanity check. We will use the \"evm\" transcript. This will allow us to provide proofs to the EVM."
      ]
    },
    {
      "cell_type": "code",
      "execution_count": 18,
      "metadata": {
        "id": "yoz5Vks5kaHI"
      },
      "outputs": [],
      "source": [
        "# Generate the Witness for the proof\n",
        "\n",
        "# now generate the witness file\n",
        "witness_path = os.path.join('witness.json')\n",
        "\n",
        "res = ezkl.gen_witness(data_path, compiled_model_path, witness_path)\n",
        "assert os.path.isfile(witness_path)"
      ]
    },
    {
      "cell_type": "code",
      "execution_count": 19,
      "metadata": {
        "colab": {
          "base_uri": "https://localhost:8080/"
        },
        "id": "eKkFBZX1kBdE",
        "outputId": "48c67e19-a491-4515-f09c-a560df8c3834"
      },
      "outputs": [
        {
          "name": "stderr",
          "output_type": "stream",
          "text": [
            "INFO ezkl.pfsys.srs 2024-04-30 21:28:56,098 srs.rs:23 loading srs from \"/home/moyed/.ezkl/srs/kzg17.srs\"\n",
            "INFO ezkl.execute 2024-04-30 21:28:56,116 execute.rs:2143 downsizing params to 17 logrows\n",
            "INFO ezkl.pfsys 2024-04-30 21:28:56,118 mod.rs:754 loading proving key from \"test.pk\"\n",
            "INFO ezkl.pfsys 2024-04-30 21:28:56,803 mod.rs:763 done loading proving key ✅\n",
            "INFO ezkl.pfsys 2024-04-30 21:28:56,804 mod.rs:575 proof started...\n",
            "INFO ezkl.graph.model 2024-04-30 21:28:56,868 model.rs:1083 model layout...\n",
            "INFO ezkl.pfsys 2024-04-30 21:29:04,910 mod.rs:613 proof took 8.104\n"
          ]
        },
        {
          "name": "stdout",
          "output_type": "stream",
          "text": [
            "{'instances': [['7f00000000000000000000000000000000000000000000000000000000000000']], 'proof': '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', 'transcript_type': 'EVM'}\n"
          ]
        }
      ],
      "source": [
        "# Generate the proof\n",
        "\n",
        "proof_path = os.path.join('proof.json')\n",
        "\n",
        "proof = ezkl.prove(\n",
        "        witness_path,\n",
        "        compiled_model_path,\n",
        "        pk_path,\n",
        "        proof_path,\n",
        "        \"single\",\n",
        "    )\n",
        "\n",
        "print(proof)\n",
        "assert os.path.isfile(proof_path)"
      ]
    },
    {
      "cell_type": "code",
      "execution_count": 20,
      "metadata": {
        "colab": {
          "base_uri": "https://localhost:8080/"
        },
        "id": "DuuH-qcOkQf1",
        "outputId": "375fdd63-1c0b-4c3c-eddd-f890a752923c"
      },
      "outputs": [
        {
          "name": "stderr",
          "output_type": "stream",
          "text": [
            "INFO ezkl.pfsys.srs 2024-04-30 21:29:07,676 srs.rs:23 loading srs from \"/home/moyed/.ezkl/srs/kzg17.srs\"\n",
            "INFO ezkl.execute 2024-04-30 21:29:07,692 execute.rs:2143 downsizing params to 17 logrows\n",
            "INFO ezkl.pfsys 2024-04-30 21:29:07,693 mod.rs:731 loading verification key from \"test.vk\"\n",
            "INFO ezkl.pfsys 2024-04-30 21:29:07,705 mod.rs:740 done loading verification key ✅\n"
          ]
        },
        {
          "name": "stderr",
          "output_type": "stream",
          "text": [
            "INFO ezkl.execute 2024-04-30 21:29:07,714 execute.rs:2101 verify took 0.7\n",
            "INFO ezkl.execute 2024-04-30 21:29:07,715 execute.rs:2106 verified: true\n"
          ]
        },
        {
          "name": "stdout",
          "output_type": "stream",
          "text": [
            "verified\n"
          ]
        }
      ],
      "source": [
        "# verify our proof\n",
        "\n",
        "res = ezkl.verify(\n",
        "        proof_path,\n",
        "        settings_path,\n",
        "        vk_path,\n",
        "    )\n",
        "\n",
        "assert res == True\n",
        "print(\"verified\")"
      ]
    },
    {
      "cell_type": "markdown",
      "metadata": {},
      "source": [
        "### 5. Public Verification by Ethereum Smart Contract"
      ]
    },
    {
      "cell_type": "markdown",
      "metadata": {},
      "source": [
        "We can now create an EVM / .sol verifier that can be deployed on chain to verify submitted proofs using a view function."
      ]
    },
    {
      "cell_type": "code",
      "execution_count": 21,
      "metadata": {},
      "outputs": [
        {
          "name": "stderr",
          "output_type": "stream",
          "text": [
            "INFO ezkl.execute 2024-04-30 21:29:09,911 execute.rs:80 checking solc installation..\n",
            "INFO ezkl.pfsys.srs 2024-04-30 21:29:09,916 srs.rs:23 loading srs from \"/home/moyed/.ezkl/srs/kzg17.srs\"\n",
            "INFO ezkl.execute 2024-04-30 21:29:09,932 execute.rs:2143 downsizing params to 17 logrows\n",
            "INFO ezkl.pfsys 2024-04-30 21:29:09,934 mod.rs:731 loading verification key from \"test.vk\"\n",
            "INFO ezkl.pfsys 2024-04-30 21:29:09,947 mod.rs:740 done loading verification key ✅\n"
          ]
        }
      ],
      "source": [
        "\n",
        "abi_path = 'test.abi'\n",
        "sol_code_path = 'test_1.sol'\n",
        "\n",
        "res = ezkl.create_evm_verifier(\n",
        "        vk_path,\n",
        "        settings_path,\n",
        "        sol_code_path,\n",
        "        abi_path,\n",
        "    )\n",
        "assert res == True"
      ]
    },
    {
      "cell_type": "markdown",
      "metadata": {},
      "source": [
        "Now, we deploy Ethereum smart contract using local Anvil node running on port 3030. It confirms the successful deployment by asserting the result, then reads the contract's address from a JSON file for further use."
      ]
    },
    {
      "cell_type": "code",
      "execution_count": null,
      "metadata": {},
      "outputs": [],
      "source": [
        "# For running anvil and foundry locally\n",
        "\n",
        "# curl -L https://foundry.paradigm.xyz | bash\n",
        "# foundryup\n",
        "# anvil -p 3030 // on seperate terminal"
      ]
    },
    {
      "cell_type": "code",
      "execution_count": 22,
      "metadata": {},
      "outputs": [
        {
          "name": "stderr",
          "output_type": "stream",
          "text": [
            "INFO ezkl.execute 2024-04-30 21:29:12,371 execute.rs:80 checking solc installation..\n",
            "INFO ezkl.eth 2024-04-30 21:29:12,443 eth.rs:75 using chain 31337\n",
            "INFO ezkl.execute 2024-04-30 21:29:12,641 execute.rs:1407 Contract deployed at: 0xdc64a140aa3e981100a9beca4e685f962f0cf6c9\n"
          ]
        }
      ],
      "source": [
        "# Make sure anvil is running locally first\n",
        "# run with $ anvil -p 3030\n",
        "# we use the default anvil node here\n",
        "import json\n",
        "\n",
        "address_path = os.path.join(\"address.json\")\n",
        "\n",
        "res = ezkl.deploy_evm(\n",
        "    address_path,\n",
        "    sol_code_path,\n",
        "    'http://127.0.0.1:3030'\n",
        ")\n",
        "\n",
        "assert res == True\n",
        "\n",
        "with open(address_path, 'r') as file:\n",
        "    addr = file.read().rstrip()"
      ]
    },
    {
      "cell_type": "markdown",
      "metadata": {},
      "source": [
        " It uses `ezkl.verify_evm` to check the validity of a cryptographic proof stored at proof_path against the contract located at addr."
      ]
    },
    {
      "cell_type": "code",
      "execution_count": 23,
      "metadata": {},
      "outputs": [
        {
          "name": "stderr",
          "output_type": "stream",
          "text": [
            "INFO ezkl.execute 2024-04-30 21:29:15,630 execute.rs:80 checking solc installation..\n",
            "INFO ezkl.eth 2024-04-30 21:29:15,632 eth.rs:350 encoded: \"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\"\n",
            "INFO ezkl.eth 2024-04-30 21:29:15,711 eth.rs:75 using chain 31337\n",
            "INFO ezkl.eth 2024-04-30 21:29:15,723 eth.rs:365 result: [\n",
            "    0,\n",
            "    0,\n",
            "    0,\n",
            "    0,\n",
            "    0,\n",
            "    0,\n",
            "    0,\n",
            "    0,\n",
            "    0,\n",
            "    0,\n",
            "    0,\n",
            "    0,\n",
            "    0,\n",
            "    0,\n",
            "    0,\n",
            "    0,\n",
            "    0,\n",
            "    0,\n",
            "    0,\n",
            "    0,\n",
            "    0,\n",
            "    0,\n",
            "    0,\n",
            "    0,\n",
            "    0,\n",
            "    0,\n",
            "    0,\n",
            "    0,\n",
            "    0,\n",
            "    0,\n",
            "    0,\n",
            "    1,\n",
            "]\n",
            "INFO ezkl.eth 2024-04-30 21:29:15,886 eth.rs:374 estimated verify gas cost: 526423\n",
            "INFO ezkl.execute 2024-04-30 21:29:15,888 execute.rs:1446 Solidity verification result: true\n"
          ]
        }
      ],
      "source": [
        "# make sure anvil is running locally\n",
        "# $ anvil -p 3030\n",
        "\n",
        "res = ezkl.verify_evm(\n",
        "    addr,\n",
        "    proof_path,\n",
        "    \"http://127.0.0.1:3030\"\n",
        ")\n",
        "assert res == True"
      ]
    }
  ],
  "metadata": {
    "colab": {
      "provenance": []
    },
    "kernelspec": {
      "display_name": "Python 3",
      "name": "python3"
    },
    "language_info": {
      "codemirror_mode": {
        "name": "ipython",
        "version": 3
      },
      "file_extension": ".py",
      "mimetype": "text/x-python",
      "name": "python",
      "nbconvert_exporter": "python",
      "pygments_lexer": "ipython3",
      "version": "3.10.12"
    }
  },
  "nbformat": 4,
  "nbformat_minor": 0
}
